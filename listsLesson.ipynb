{
 "cells": [
  {
   "cell_type": "code",
   "execution_count": 1,
   "id": "1c0b32c5-9f5c-4a2a-ba9c-2957670739f3",
   "metadata": {},
   "outputs": [],
   "source": [
    "item1 = \"bread\"\n",
    "item2 = \"pasta\"\n",
    "item3 = \"cheese\"\n",
    "item4 = \"veggies\""
   ]
  },
  {
   "cell_type": "code",
   "execution_count": 11,
   "id": "20dbf73f-f1f8-4c34-9904-f2d58bd77477",
   "metadata": {},
   "outputs": [
    {
     "data": {
      "text/plain": [
       "['bread', 'pasta', 'fruits', 'veggies']"
      ]
     },
     "execution_count": 11,
     "metadata": {},
     "output_type": "execute_result"
    }
   ],
   "source": [
    "items = [\"bread\", \"pasta\", \"fruits\", \"veggies\"]\n",
    "items"
   ]
  },
  {
   "cell_type": "code",
   "execution_count": 3,
   "id": "27368a28-60de-459e-a47a-876444eb30e3",
   "metadata": {},
   "outputs": [
    {
     "data": {
      "text/plain": [
       "'pasta'"
      ]
     },
     "execution_count": 3,
     "metadata": {},
     "output_type": "execute_result"
    }
   ],
   "source": [
    "items[1]"
   ]
  },
  {
   "cell_type": "code",
   "execution_count": 4,
   "id": "c75131d7-fccb-4cfa-9d5a-c4d353d117a2",
   "metadata": {},
   "outputs": [
    {
     "data": {
      "text/plain": [
       "'bread'"
      ]
     },
     "execution_count": 4,
     "metadata": {},
     "output_type": "execute_result"
    }
   ],
   "source": [
    "items[0]"
   ]
  },
  {
   "cell_type": "code",
   "execution_count": 9,
   "id": "0e49336d-3796-473f-9121-0cc2298c00db",
   "metadata": {},
   "outputs": [
    {
     "data": {
      "text/plain": [
       "'veggies'"
      ]
     },
     "execution_count": 9,
     "metadata": {},
     "output_type": "execute_result"
    }
   ],
   "source": [
    "items[-1]"
   ]
  },
  {
   "cell_type": "code",
   "execution_count": 12,
   "id": "06000f7b-9031-4707-9327-b1c178ab9b2f",
   "metadata": {},
   "outputs": [
    {
     "data": {
      "text/plain": [
       "['bread', 'pasta', 'fruits']"
      ]
     },
     "execution_count": 12,
     "metadata": {},
     "output_type": "execute_result"
    }
   ],
   "source": [
    "items[0:3]"
   ]
  },
  {
   "cell_type": "code",
   "execution_count": 15,
   "id": "122ce4e3-0382-4ec5-8991-a8c638716efd",
   "metadata": {},
   "outputs": [
    {
     "data": {
      "text/plain": [
       "['bread', 'pasta', 'fruits', 'veggies', 'butter', 'butter', 'butter']"
      ]
     },
     "execution_count": 15,
     "metadata": {},
     "output_type": "execute_result"
    }
   ],
   "source": [
    "items.append(\"butter\")\n",
    "items"
   ]
  },
  {
   "cell_type": "code",
   "execution_count": 16,
   "id": "f232cf40-79b6-4e82-a64d-d64bc7300fe3",
   "metadata": {},
   "outputs": [
    {
     "data": {
      "text/plain": [
       "['bread', 'pasta', 'fruits', 'veggies']"
      ]
     },
     "execution_count": 16,
     "metadata": {},
     "output_type": "execute_result"
    }
   ],
   "source": [
    "items = [\"bread\", \"pasta\", \"fruits\", \"veggies\"]\n",
    "items"
   ]
  },
  {
   "cell_type": "code",
   "execution_count": 17,
   "id": "4a990171-a0ce-40ff-88be-d6e332fe1b05",
   "metadata": {},
   "outputs": [],
   "source": [
    "items.insert(1, \"butter\")"
   ]
  },
  {
   "cell_type": "code",
   "execution_count": 18,
   "id": "cc3170f4-5344-465e-bce5-7032038433bb",
   "metadata": {},
   "outputs": [
    {
     "data": {
      "text/plain": [
       "['bread', 'butter', 'pasta', 'fruits', 'veggies']"
      ]
     },
     "execution_count": 18,
     "metadata": {},
     "output_type": "execute_result"
    }
   ],
   "source": [
    "items"
   ]
  },
  {
   "cell_type": "code",
   "execution_count": 19,
   "id": "d35ff669-5827-45de-bf45-040d6f8d4872",
   "metadata": {},
   "outputs": [],
   "source": [
    "items.remove(\"pasta\")"
   ]
  },
  {
   "cell_type": "code",
   "execution_count": 20,
   "id": "96768e90-b244-454f-b8d1-3d5abcf73644",
   "metadata": {},
   "outputs": [
    {
     "data": {
      "text/plain": [
       "['bread', 'butter', 'fruits', 'veggies']"
      ]
     },
     "execution_count": 20,
     "metadata": {},
     "output_type": "execute_result"
    }
   ],
   "source": [
    "items"
   ]
  },
  {
   "cell_type": "code",
   "execution_count": 21,
   "id": "5d211cd7-5115-446f-bceb-4f4dc96d8329",
   "metadata": {},
   "outputs": [
    {
     "data": {
      "text/plain": [
       "False"
      ]
     },
     "execution_count": 21,
     "metadata": {},
     "output_type": "execute_result"
    }
   ],
   "source": [
    "\"rice\" in items"
   ]
  },
  {
   "cell_type": "code",
   "execution_count": 22,
   "id": "11f7ef0b-9a70-47d2-92f3-ed0f29cab909",
   "metadata": {},
   "outputs": [
    {
     "data": {
      "text/plain": [
       "True"
      ]
     },
     "execution_count": 22,
     "metadata": {},
     "output_type": "execute_result"
    }
   ],
   "source": [
    "\"rice\" not in items"
   ]
  },
  {
   "cell_type": "code",
   "execution_count": 23,
   "id": "4fbe2f80-1c6e-43d4-a2a7-5bdfe87bff81",
   "metadata": {},
   "outputs": [
    {
     "data": {
      "text/plain": [
       "True"
      ]
     },
     "execution_count": 23,
     "metadata": {},
     "output_type": "execute_result"
    }
   ],
   "source": [
    "\"bread\" in items"
   ]
  },
  {
   "cell_type": "code",
   "execution_count": 24,
   "id": "fc807243-f597-4c64-8a7b-048456fc921a",
   "metadata": {},
   "outputs": [],
   "source": [
    "expenses = [30, 1200, 45, 300]"
   ]
  },
  {
   "cell_type": "code",
   "execution_count": 25,
   "id": "8b1f878b-ce36-471a-95c3-b804561b22f7",
   "metadata": {},
   "outputs": [
    {
     "data": {
      "text/plain": [
       "[30, 1200, 45, 300]"
      ]
     },
     "execution_count": 25,
     "metadata": {},
     "output_type": "execute_result"
    }
   ],
   "source": [
    "expenses"
   ]
  },
  {
   "cell_type": "code",
   "execution_count": 26,
   "id": "fa0edaba-46ab-4809-996b-8e54774c0bcf",
   "metadata": {},
   "outputs": [
    {
     "data": {
      "text/plain": [
       "[30, 45, 300, 1200]"
      ]
     },
     "execution_count": 26,
     "metadata": {},
     "output_type": "execute_result"
    }
   ],
   "source": [
    "expenses.sort()\n",
    "expenses"
   ]
  },
  {
   "cell_type": "code",
   "execution_count": 28,
   "id": "344ce108-b845-4033-a404-0df0aed27653",
   "metadata": {},
   "outputs": [
    {
     "data": {
      "text/plain": [
       "['zebra', 'bro', 'apple']"
      ]
     },
     "execution_count": 28,
     "metadata": {},
     "output_type": "execute_result"
    }
   ],
   "source": [
    "my_list=[\"zebra\", \"bro\", \"apple\"]\n",
    "my_list"
   ]
  },
  {
   "cell_type": "code",
   "execution_count": 29,
   "id": "d6550052-c4e8-4182-beb5-d5efaff990e2",
   "metadata": {},
   "outputs": [
    {
     "data": {
      "text/plain": [
       "['zebra', 'bro', 'apple']"
      ]
     },
     "execution_count": 29,
     "metadata": {},
     "output_type": "execute_result"
    }
   ],
   "source": [
    "my_list.sort(reverse=True)\n",
    "my_list"
   ]
  },
  {
   "cell_type": "code",
   "execution_count": 30,
   "id": "62ddf2cf-6d09-4ca4-9e9d-62e0ab633b71",
   "metadata": {},
   "outputs": [
    {
     "data": {
      "text/plain": [
       "['bread', 'pasta', 'fruits', 'veggies', 'shampoo', 'soap']"
      ]
     },
     "execution_count": 30,
     "metadata": {},
     "output_type": "execute_result"
    }
   ],
   "source": [
    "food_items=[\"bread\", \"pasta\", \"fruits\", \"veggies\"]\n",
    "bath_items=[\"shampoo\", \"soap\"]\n",
    "all_items = food_items + bath_items\n",
    "all_items"
   ]
  },
  {
   "cell_type": "code",
   "execution_count": 31,
   "id": "f0d4f69d-ddab-4701-9344-7e6caeaa8ac3",
   "metadata": {},
   "outputs": [
    {
     "data": {
      "text/plain": [
       "6"
      ]
     },
     "execution_count": 31,
     "metadata": {},
     "output_type": "execute_result"
    }
   ],
   "source": [
    "len(all_items)"
   ]
  },
  {
   "cell_type": "code",
   "execution_count": 32,
   "id": "217c11b3-1ae7-4280-a24c-c7ebda62ebac",
   "metadata": {},
   "outputs": [
    {
     "data": {
      "text/plain": [
       "['__add__',\n",
       " '__class__',\n",
       " '__contains__',\n",
       " '__delattr__',\n",
       " '__delitem__',\n",
       " '__dir__',\n",
       " '__doc__',\n",
       " '__eq__',\n",
       " '__format__',\n",
       " '__ge__',\n",
       " '__getattribute__',\n",
       " '__getitem__',\n",
       " '__gt__',\n",
       " '__hash__',\n",
       " '__iadd__',\n",
       " '__imul__',\n",
       " '__init__',\n",
       " '__init_subclass__',\n",
       " '__iter__',\n",
       " '__le__',\n",
       " '__len__',\n",
       " '__lt__',\n",
       " '__mul__',\n",
       " '__ne__',\n",
       " '__new__',\n",
       " '__reduce__',\n",
       " '__reduce_ex__',\n",
       " '__repr__',\n",
       " '__reversed__',\n",
       " '__rmul__',\n",
       " '__setattr__',\n",
       " '__setitem__',\n",
       " '__sizeof__',\n",
       " '__str__',\n",
       " '__subclasshook__',\n",
       " 'append',\n",
       " 'clear',\n",
       " 'copy',\n",
       " 'count',\n",
       " 'extend',\n",
       " 'index',\n",
       " 'insert',\n",
       " 'pop',\n",
       " 'remove',\n",
       " 'reverse',\n",
       " 'sort']"
      ]
     },
     "execution_count": 32,
     "metadata": {},
     "output_type": "execute_result"
    }
   ],
   "source": [
    "dir(all_items)"
   ]
  },
  {
   "cell_type": "code",
   "execution_count": 33,
   "id": "493824c4-563a-41dc-a898-df7d17b644a8",
   "metadata": {},
   "outputs": [
    {
     "data": {
      "text/plain": [
       "['bread', 'butter', 'fruits', 'veggies']"
      ]
     },
     "execution_count": 33,
     "metadata": {},
     "output_type": "execute_result"
    }
   ],
   "source": [
    "items"
   ]
  },
  {
   "cell_type": "code",
   "execution_count": 34,
   "id": "a1070ce2-52fa-4c10-a6de-5dff4ce1007b",
   "metadata": {},
   "outputs": [
    {
     "data": {
      "text/plain": [
       "['veggies', 'fruits', 'butter', 'bread']"
      ]
     },
     "execution_count": 34,
     "metadata": {},
     "output_type": "execute_result"
    }
   ],
   "source": [
    "items.reverse()\n",
    "items"
   ]
  },
  {
   "cell_type": "code",
   "execution_count": 35,
   "id": "2ba7fecd-ae7a-453e-b4a2-3e6f2c85b5c9",
   "metadata": {},
   "outputs": [
    {
     "data": {
      "text/plain": [
       "['car', 4.5, True]"
      ]
     },
     "execution_count": 35,
     "metadata": {},
     "output_type": "execute_result"
    }
   ],
   "source": [
    "random = [\"car\", 4.5, True]\n",
    "random"
   ]
  },
  {
   "cell_type": "code",
   "execution_count": 36,
   "id": "9d88ffb8-1ccd-4710-afc9-3e38ad3c3f89",
   "metadata": {},
   "outputs": [
    {
     "data": {
      "text/plain": [
       "['veggies', 'fruits', 'butter']"
      ]
     },
     "execution_count": 36,
     "metadata": {},
     "output_type": "execute_result"
    }
   ],
   "source": [
    "items.pop()\n",
    "items"
   ]
  },
  {
   "cell_type": "code",
   "execution_count": 38,
   "id": "7063351e-14bf-4753-ac9a-d64aadd555c0",
   "metadata": {},
   "outputs": [
    {
     "data": {
      "text/plain": [
       "['Titanic', 'Avengers-Endgame', 'Avatar']"
      ]
     },
     "execution_count": 38,
     "metadata": {},
     "output_type": "execute_result"
    }
   ],
   "source": [
    "movies = [\"Jurassic World\",\"Spider-man\",\"Titanic\",\"Avengers-Endgame\",\"Avatar\"]\n",
    "movies[-3:]"
   ]
  },
  {
   "cell_type": "code",
   "execution_count": null,
   "id": "b80e8607-33e4-4a91-a2b1-c3e7e92f3ed0",
   "metadata": {},
   "outputs": [],
   "source": []
  }
 ],
 "metadata": {
  "kernelspec": {
   "display_name": "Python 3 (ipykernel)",
   "language": "python",
   "name": "python3"
  },
  "language_info": {
   "codemirror_mode": {
    "name": "ipython",
    "version": 3
   },
   "file_extension": ".py",
   "mimetype": "text/x-python",
   "name": "python",
   "nbconvert_exporter": "python",
   "pygments_lexer": "ipython3",
   "version": "3.8.10"
  }
 },
 "nbformat": 4,
 "nbformat_minor": 5
}
