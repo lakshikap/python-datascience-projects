{
 "cells": [
  {
   "cell_type": "code",
   "execution_count": 1,
   "id": "70a3f604-529f-4ea0-b982-d106e21714f0",
   "metadata": {},
   "outputs": [
    {
     "data": {
      "text/plain": [
       "3.142857142857143"
      ]
     },
     "execution_count": 1,
     "metadata": {},
     "output_type": "execute_result"
    }
   ],
   "source": [
    "pi=22/7\n",
    "pi"
   ]
  },
  {
   "cell_type": "code",
   "execution_count": 2,
   "id": "a492944a-aa11-4cea-9c74-48a851238e3b",
   "metadata": {},
   "outputs": [
    {
     "data": {
      "text/plain": [
       "float"
      ]
     },
     "execution_count": 2,
     "metadata": {},
     "output_type": "execute_result"
    }
   ],
   "source": [
    "type(pi)"
   ]
  },
  {
   "cell_type": "code",
   "execution_count": 3,
   "id": "04505bde-2906-4a9f-88c8-8ab346beea64",
   "metadata": {},
   "outputs": [
    {
     "ename": "SyntaxError",
     "evalue": "invalid syntax (3639871942.py, line 1)",
     "output_type": "error",
     "traceback": [
      "\u001b[0;36m  Cell \u001b[0;32mIn[3], line 1\u001b[0;36m\u001b[0m\n\u001b[0;31m    for=4\u001b[0m\n\u001b[0m       ^\u001b[0m\n\u001b[0;31mSyntaxError\u001b[0m\u001b[0;31m:\u001b[0m invalid syntax\n"
     ]
    }
   ],
   "source": [
    "for=4"
   ]
  },
  {
   "cell_type": "code",
   "execution_count": 4,
   "id": "cdde9282-42e1-4f3d-9518-113b213b2165",
   "metadata": {},
   "outputs": [
    {
     "data": {
      "text/plain": [
       "\"syntax error as 'for' is a defined syntax word in python.\""
      ]
     },
     "execution_count": 4,
     "metadata": {},
     "output_type": "execute_result"
    }
   ],
   "source": [
    "reason=\"syntax error as 'for' is a defined syntax word in python.\"\n",
    "reason"
   ]
  },
  {
   "cell_type": "code",
   "execution_count": 5,
   "id": "f964215a-83a4-46d8-b2e2-84fc9ea368fd",
   "metadata": {},
   "outputs": [
    {
     "ename": "SyntaxError",
     "evalue": "invalid syntax (1142320703.py, line 2)",
     "output_type": "error",
     "traceback": [
      "\u001b[0;36m  Cell \u001b[0;32mIn[5], line 2\u001b[0;36m\u001b[0m\n\u001b[0;31m    R=2%\u001b[0m\n\u001b[0m        ^\u001b[0m\n\u001b[0;31mSyntaxError\u001b[0m\u001b[0;31m:\u001b[0m invalid syntax\n"
     ]
    }
   ],
   "source": [
    "P=10000\n",
    "R=2%\n",
    "T=8\n",
    "P*R*T/100*3"
   ]
  },
  {
   "cell_type": "code",
   "execution_count": 6,
   "id": "1d43c8d4-d793-4a93-ab15-301b5e00f917",
   "metadata": {},
   "outputs": [
    {
     "data": {
      "text/plain": [
       "48.0"
      ]
     },
     "execution_count": 6,
     "metadata": {},
     "output_type": "execute_result"
    }
   ],
   "source": [
    "P=10000\n",
    "R=0.02\n",
    "T=8\n",
    "P*R*T/100*3"
   ]
  },
  {
   "cell_type": "code",
   "execution_count": null,
   "id": "1eec8ae2-e233-4450-b98f-3f76956950b9",
   "metadata": {},
   "outputs": [],
   "source": []
  }
 ],
 "metadata": {
  "kernelspec": {
   "display_name": "Python 3 (ipykernel)",
   "language": "python",
   "name": "python3"
  },
  "language_info": {
   "codemirror_mode": {
    "name": "ipython",
    "version": 3
   },
   "file_extension": ".py",
   "mimetype": "text/x-python",
   "name": "python",
   "nbconvert_exporter": "python",
   "pygments_lexer": "ipython3",
   "version": "3.8.10"
  }
 },
 "nbformat": 4,
 "nbformat_minor": 5
}
