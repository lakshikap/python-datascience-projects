{
 "cells": [
  {
   "cell_type": "code",
   "execution_count": null,
   "id": "ed8518b8-44ad-4bac-a59d-70bd8530c5f3",
   "metadata": {},
   "outputs": [],
   "source": [
    "base=10\n",
    "height=7"
   ]
  },
  {
   "cell_type": "code",
   "execution_count": 1,
   "id": "2920e1ad-8e60-49dc-9f70-ab66bd9483c1",
   "metadata": {},
   "outputs": [
    {
     "ename": "NameError",
     "evalue": "name 'base' is not defined",
     "output_type": "error",
     "traceback": [
      "\u001b[0;31m---------------------------------------------------------------------------\u001b[0m",
      "\u001b[0;31mNameError\u001b[0m                                 Traceback (most recent call last)",
      "Cell \u001b[0;32mIn[1], line 1\u001b[0m\n\u001b[0;32m----> 1\u001b[0m area \u001b[38;5;241m=\u001b[39m (\u001b[38;5;241m1\u001b[39m\u001b[38;5;241m/\u001b[39m\u001b[38;5;241m2\u001b[39m)\u001b[38;5;241m*\u001b[39m\u001b[43mbase\u001b[49m\u001b[38;5;241m*\u001b[39mheight\n\u001b[1;32m      2\u001b[0m area\n",
      "\u001b[0;31mNameError\u001b[0m: name 'base' is not defined"
     ]
    }
   ],
   "source": [
    "area = (1/2)*base*height\n",
    "area"
   ]
  },
  {
   "cell_type": "code",
   "execution_count": 2,
   "id": "bffbbf1d-17fc-46ff-8c35-1f1afd1459f9",
   "metadata": {},
   "outputs": [
    {
     "ename": "NameError",
     "evalue": "name 'base' is not defined",
     "output_type": "error",
     "traceback": [
      "\u001b[0;31m---------------------------------------------------------------------------\u001b[0m",
      "\u001b[0;31mNameError\u001b[0m                                 Traceback (most recent call last)",
      "Cell \u001b[0;32mIn[2], line 1\u001b[0m\n\u001b[0;32m----> 1\u001b[0m area \u001b[38;5;241m=\u001b[39m (\u001b[38;5;241m1\u001b[39m\u001b[38;5;241m/\u001b[39m\u001b[38;5;241m2\u001b[39m) \u001b[38;5;241m*\u001b[39m \u001b[43mbase\u001b[49m \u001b[38;5;241m*\u001b[39m height\n",
      "\u001b[0;31mNameError\u001b[0m: name 'base' is not defined"
     ]
    }
   ],
   "source": [
    "area = (1/2) * base * height"
   ]
  },
  {
   "cell_type": "code",
   "execution_count": 4,
   "id": "c0489c91-1deb-4acf-a1c1-a12cb9f55446",
   "metadata": {},
   "outputs": [
    {
     "data": {
      "text/plain": [
       "35.0"
      ]
     },
     "execution_count": 4,
     "metadata": {},
     "output_type": "execute_result"
    }
   ],
   "source": [
    "base=10\n",
    "height=7\n",
    "area = (1/2) * base * height\n",
    "area"
   ]
  },
  {
   "cell_type": "code",
   "execution_count": 5,
   "id": "f7a9f486-e63b-4ebc-99c5-7219e85a36c9",
   "metadata": {},
   "outputs": [
    {
     "data": {
      "text/plain": [
       "35.0"
      ]
     },
     "execution_count": 5,
     "metadata": {},
     "output_type": "execute_result"
    }
   ],
   "source": [
    "height=7\n",
    "area = (1/2) * base * height\n",
    "area"
   ]
  },
  {
   "cell_type": "code",
   "execution_count": 6,
   "id": "48dfc51f-2841-4ad5-bb31-39fd5257e42b",
   "metadata": {},
   "outputs": [
    {
     "data": {
      "text/plain": [
       "float"
      ]
     },
     "execution_count": 6,
     "metadata": {},
     "output_type": "execute_result"
    }
   ],
   "source": [
    "type(area)"
   ]
  },
  {
   "cell_type": "code",
   "execution_count": 7,
   "id": "9f1f0058-c119-4b82-bc04-77cdf3e0a57f",
   "metadata": {},
   "outputs": [
    {
     "data": {
      "text/plain": [
       "3"
      ]
     },
     "execution_count": 7,
     "metadata": {},
     "output_type": "execute_result"
    }
   ],
   "source": [
    "1+2"
   ]
  },
  {
   "cell_type": "code",
   "execution_count": 8,
   "id": "1bce2852-3121-4d6c-a94a-a98c3e8c0a04",
   "metadata": {},
   "outputs": [
    {
     "data": {
      "text/plain": [
       "8"
      ]
     },
     "execution_count": 8,
     "metadata": {},
     "output_type": "execute_result"
    }
   ],
   "source": [
    "2*4"
   ]
  },
  {
   "cell_type": "code",
   "execution_count": 9,
   "id": "d86d40c1-d009-42e3-a26b-fdfb3336d325",
   "metadata": {},
   "outputs": [
    {
     "data": {
      "text/plain": [
       "3.3333333333333335"
      ]
     },
     "execution_count": 9,
     "metadata": {},
     "output_type": "execute_result"
    }
   ],
   "source": [
    "10/3"
   ]
  },
  {
   "cell_type": "code",
   "execution_count": 10,
   "id": "037879e9-10f5-4a56-abec-ca982d9af6e8",
   "metadata": {},
   "outputs": [
    {
     "data": {
      "text/plain": [
       "3"
      ]
     },
     "execution_count": 10,
     "metadata": {},
     "output_type": "execute_result"
    }
   ],
   "source": [
    "10//3"
   ]
  },
  {
   "cell_type": "code",
   "execution_count": 11,
   "id": "1180df72-6f0a-4b49-a8d0-bbb2f6948d34",
   "metadata": {},
   "outputs": [
    {
     "data": {
      "text/plain": [
       "2"
      ]
     },
     "execution_count": 11,
     "metadata": {},
     "output_type": "execute_result"
    }
   ],
   "source": [
    "17%3"
   ]
  },
  {
   "cell_type": "code",
   "execution_count": 12,
   "id": "1c0d3818-fbae-44c3-82a4-9bfea0b43f48",
   "metadata": {},
   "outputs": [
    {
     "data": {
      "text/plain": [
       "9"
      ]
     },
     "execution_count": 12,
     "metadata": {},
     "output_type": "execute_result"
    }
   ],
   "source": [
    "3**2"
   ]
  },
  {
   "cell_type": "code",
   "execution_count": 13,
   "id": "a0bb15e6-c8de-4fc8-b732-05934f963558",
   "metadata": {},
   "outputs": [
    {
     "data": {
      "text/plain": [
       "81"
      ]
     },
     "execution_count": 13,
     "metadata": {},
     "output_type": "execute_result"
    }
   ],
   "source": [
    "3**4"
   ]
  },
  {
   "cell_type": "code",
   "execution_count": 14,
   "id": "986d3221-fb21-4ff5-9f32-42175077dfa2",
   "metadata": {},
   "outputs": [
    {
     "data": {
      "text/plain": [
       "16"
      ]
     },
     "execution_count": 14,
     "metadata": {},
     "output_type": "execute_result"
    }
   ],
   "source": [
    "10+2*3"
   ]
  },
  {
   "cell_type": "code",
   "execution_count": 15,
   "id": "9ca18c69-ef68-4900-8f88-2d8314176aec",
   "metadata": {},
   "outputs": [
    {
     "data": {
      "text/plain": [
       "36"
      ]
     },
     "execution_count": 15,
     "metadata": {},
     "output_type": "execute_result"
    }
   ],
   "source": [
    "(10+2)*3"
   ]
  },
  {
   "cell_type": "code",
   "execution_count": 16,
   "id": "a9f68a4b-4c9b-4110-a27f-9e780f256bef",
   "metadata": {},
   "outputs": [
    {
     "data": {
      "text/plain": [
       "23000.0"
      ]
     },
     "execution_count": 16,
     "metadata": {},
     "output_type": "execute_result"
    }
   ],
   "source": [
    "foo=2.3e4\n",
    "foo"
   ]
  },
  {
   "cell_type": "code",
   "execution_count": 17,
   "id": "9e2eeb48-62f1-44f7-8d8c-f58dc90a991b",
   "metadata": {},
   "outputs": [
    {
     "data": {
      "text/plain": [
       "10000.0"
      ]
     },
     "execution_count": 17,
     "metadata": {},
     "output_type": "execute_result"
    }
   ],
   "source": [
    "1e4"
   ]
  },
  {
   "cell_type": "code",
   "execution_count": 18,
   "id": "d80d0ab4-83dd-4f9f-983e-b9212acd34e6",
   "metadata": {},
   "outputs": [],
   "source": [
    "bar=2.3e-3"
   ]
  },
  {
   "cell_type": "code",
   "execution_count": 19,
   "id": "69c1f213-9264-43c1-8741-545168ac39fc",
   "metadata": {},
   "outputs": [
    {
     "data": {
      "text/plain": [
       "0.0023"
      ]
     },
     "execution_count": 19,
     "metadata": {},
     "output_type": "execute_result"
    }
   ],
   "source": [
    "bar"
   ]
  },
  {
   "cell_type": "code",
   "execution_count": 20,
   "id": "9e11c3fb-52d3-4c73-8abe-8b724729d2c6",
   "metadata": {},
   "outputs": [],
   "source": [
    "food=120.34\n",
    "rent=500.4\n",
    "utilities=200.5"
   ]
  },
  {
   "cell_type": "code",
   "execution_count": 21,
   "id": "13643bbf-90c4-45bc-8c53-e4cc67559b80",
   "metadata": {},
   "outputs": [
    {
     "data": {
      "text/plain": [
       "821.24"
      ]
     },
     "execution_count": 21,
     "metadata": {},
     "output_type": "execute_result"
    }
   ],
   "source": [
    "total=food+rent+utilities\n",
    "total"
   ]
  },
  {
   "cell_type": "code",
   "execution_count": 22,
   "id": "10247184-2465-4e10-8379-58fcecdfb422",
   "metadata": {},
   "outputs": [
    {
     "data": {
      "text/plain": [
       "821"
      ]
     },
     "execution_count": 22,
     "metadata": {},
     "output_type": "execute_result"
    }
   ],
   "source": [
    "round(total)"
   ]
  },
  {
   "cell_type": "code",
   "execution_count": 23,
   "id": "fb06cba1-1865-4aa8-8c5e-c68ca8d76c8d",
   "metadata": {},
   "outputs": [
    {
     "data": {
      "text/plain": [
       "1000"
      ]
     },
     "execution_count": 23,
     "metadata": {},
     "output_type": "execute_result"
    }
   ],
   "source": [
    "income=10000\n",
    "expenses=9000\n",
    "savings=income-expenses\n",
    "savings"
   ]
  },
  {
   "cell_type": "code",
   "execution_count": 24,
   "id": "f0916cab-053b-4b0a-a78e-96682a5f48dd",
   "metadata": {},
   "outputs": [
    {
     "data": {
      "text/plain": [
       "str"
      ]
     },
     "execution_count": 24,
     "metadata": {},
     "output_type": "execute_result"
    }
   ],
   "source": [
    "food=\"120.34\"\n",
    "rent=\"500.4\"\n",
    "type(food)"
   ]
  },
  {
   "cell_type": "code",
   "execution_count": 25,
   "id": "68a48455-61df-4a56-a202-14e2ba3f8c60",
   "metadata": {},
   "outputs": [
    {
     "data": {
      "text/plain": [
       "'120.34500.4'"
      ]
     },
     "execution_count": 25,
     "metadata": {},
     "output_type": "execute_result"
    }
   ],
   "source": [
    "total=food+rent\n",
    "total"
   ]
  },
  {
   "cell_type": "code",
   "execution_count": 26,
   "id": "f0064855-7023-43bb-844f-798990f9e895",
   "metadata": {},
   "outputs": [
    {
     "data": {
      "text/plain": [
       "620.74"
      ]
     },
     "execution_count": 26,
     "metadata": {},
     "output_type": "execute_result"
    }
   ],
   "source": [
    "food=120.34\n",
    "rent=500.4\n",
    "total=food+rent\n",
    "total"
   ]
  },
  {
   "cell_type": "code",
   "execution_count": 27,
   "id": "af673c9e-1897-42b7-80a9-a120f0eab2ea",
   "metadata": {},
   "outputs": [
    {
     "data": {
      "text/plain": [
       "'101'"
      ]
     },
     "execution_count": 27,
     "metadata": {},
     "output_type": "execute_result"
    }
   ],
   "source": [
    "format(5,'b')\n"
   ]
  },
  {
   "cell_type": "code",
   "execution_count": 28,
   "id": "80ceacc8-4ce4-43b5-bdf4-35e58f84ed86",
   "metadata": {},
   "outputs": [
    {
     "data": {
      "text/plain": [
       "1200.0"
      ]
     },
     "execution_count": 28,
     "metadata": {},
     "output_type": "execute_result"
    }
   ],
   "source": [
    "a=1.2e3\n",
    "a"
   ]
  },
  {
   "cell_type": "code",
   "execution_count": 29,
   "id": "7ef5dff2-5788-4b48-9bae-56039cf2a9ba",
   "metadata": {},
   "outputs": [
    {
     "name": "stdout",
     "output_type": "stream",
     "text": [
      "<class 'float'>\n"
     ]
    }
   ],
   "source": [
    "print(type(a))"
   ]
  },
  {
   "cell_type": "code",
   "execution_count": 30,
   "id": "5e011661-e38d-4e34-a1e7-7d1f54accbc2",
   "metadata": {},
   "outputs": [
    {
     "data": {
      "text/plain": [
       "(4+3j)"
      ]
     },
     "execution_count": 30,
     "metadata": {},
     "output_type": "execute_result"
    }
   ],
   "source": [
    "3j+4"
   ]
  },
  {
   "cell_type": "code",
   "execution_count": 31,
   "id": "fdafb629-accb-4a5e-8247-85ee94d9ade4",
   "metadata": {},
   "outputs": [
    {
     "data": {
      "text/plain": [
       "0.0002"
      ]
     },
     "execution_count": 31,
     "metadata": {},
     "output_type": "execute_result"
    }
   ],
   "source": [
    "2e-4"
   ]
  },
  {
   "cell_type": "code",
   "execution_count": null,
   "id": "06fa0b2d-100d-460f-9ce2-89c57617ed59",
   "metadata": {},
   "outputs": [],
   "source": []
  }
 ],
 "metadata": {
  "kernelspec": {
   "display_name": "Python 3 (ipykernel)",
   "language": "python",
   "name": "python3"
  },
  "language_info": {
   "codemirror_mode": {
    "name": "ipython",
    "version": 3
   },
   "file_extension": ".py",
   "mimetype": "text/x-python",
   "name": "python",
   "nbconvert_exporter": "python",
   "pygments_lexer": "ipython3",
   "version": "3.8.10"
  }
 },
 "nbformat": 4,
 "nbformat_minor": 5
}
