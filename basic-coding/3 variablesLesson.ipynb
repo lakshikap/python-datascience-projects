{
 "cells": [
  {
   "cell_type": "code",
   "execution_count": 6,
   "id": "f7cbb0ce-5e27-44c7-88d5-0849ebab7b72",
   "metadata": {},
   "outputs": [],
   "source": [
    "can=\"soda\""
   ]
  },
  {
   "cell_type": "code",
   "execution_count": 2,
   "id": "e29290f4-ab3e-48f1-b840-04e7c81783b2",
   "metadata": {},
   "outputs": [
    {
     "data": {
      "text/plain": [
       "'soda'"
      ]
     },
     "execution_count": 2,
     "metadata": {},
     "output_type": "execute_result"
    }
   ],
   "source": [
    "can"
   ]
  },
  {
   "cell_type": "code",
   "execution_count": 3,
   "id": "8d49551b-91e8-4459-97ff-5e503db5ea2f",
   "metadata": {},
   "outputs": [],
   "source": [
    "can=\"beans\""
   ]
  },
  {
   "cell_type": "code",
   "execution_count": 4,
   "id": "ccb0fa8e-55a3-45b3-8250-ba58ced26b73",
   "metadata": {},
   "outputs": [
    {
     "data": {
      "text/plain": [
       "'beans'"
      ]
     },
     "execution_count": 4,
     "metadata": {},
     "output_type": "execute_result"
    }
   ],
   "source": [
    "can"
   ]
  },
  {
   "cell_type": "code",
   "execution_count": 5,
   "id": "dc47f9f7-e9af-4538-908a-2c3f448bea4b",
   "metadata": {},
   "outputs": [
    {
     "data": {
      "text/plain": [
       "str"
      ]
     },
     "execution_count": 5,
     "metadata": {},
     "output_type": "execute_result"
    }
   ],
   "source": [
    "type(can)"
   ]
  },
  {
   "cell_type": "code",
   "execution_count": 7,
   "id": "a812850c-1cc0-4159-bc93-013fac9c65fe",
   "metadata": {},
   "outputs": [
    {
     "data": {
      "text/plain": [
       "'lakshika'"
      ]
     },
     "execution_count": 7,
     "metadata": {},
     "output_type": "execute_result"
    }
   ],
   "source": [
    "first_name=\"lakshika\"\n",
    "last_name=\"paiva\"\n",
    "\n",
    "first_name"
   ]
  },
  {
   "cell_type": "code",
   "execution_count": 8,
   "id": "55c8732c-c3c6-47da-aaa0-14bee7d17175",
   "metadata": {},
   "outputs": [
    {
     "data": {
      "text/plain": [
       "str"
      ]
     },
     "execution_count": 8,
     "metadata": {},
     "output_type": "execute_result"
    }
   ],
   "source": [
    "type(first_name)"
   ]
  },
  {
   "cell_type": "code",
   "execution_count": 9,
   "id": "1013f5cf-a19f-486e-96b7-762c2fe8805d",
   "metadata": {},
   "outputs": [
    {
     "data": {
      "text/plain": [
       "100"
      ]
     },
     "execution_count": 9,
     "metadata": {},
     "output_type": "execute_result"
    }
   ],
   "source": [
    "pizza=100\n",
    "pizza"
   ]
  },
  {
   "cell_type": "code",
   "execution_count": 10,
   "id": "273b6e52-d34b-411c-b841-67a166cbeada",
   "metadata": {},
   "outputs": [
    {
     "data": {
      "text/plain": [
       "int"
      ]
     },
     "execution_count": 10,
     "metadata": {},
     "output_type": "execute_result"
    }
   ],
   "source": [
    "type(pizza)"
   ]
  },
  {
   "cell_type": "code",
   "execution_count": 11,
   "id": "bbf092d9-9fea-4c6b-bac9-d60fb253b86d",
   "metadata": {},
   "outputs": [
    {
     "data": {
      "text/plain": [
       "20.5"
      ]
     },
     "execution_count": 11,
     "metadata": {},
     "output_type": "execute_result"
    }
   ],
   "source": [
    "samosa=20.5\n",
    "samosa"
   ]
  },
  {
   "cell_type": "code",
   "execution_count": 12,
   "id": "2690957e-95f9-4ede-bb28-32356db484cb",
   "metadata": {},
   "outputs": [
    {
     "data": {
      "text/plain": [
       "float"
      ]
     },
     "execution_count": 12,
     "metadata": {},
     "output_type": "execute_result"
    }
   ],
   "source": [
    "type(samosa)"
   ]
  },
  {
   "cell_type": "code",
   "execution_count": 13,
   "id": "3482f817-61b9-4d70-80ca-3ff8679e163b",
   "metadata": {},
   "outputs": [],
   "source": [
    "ice_cream=40\n",
    "total=pizza+samosa+ice_cream"
   ]
  },
  {
   "cell_type": "code",
   "execution_count": 14,
   "id": "05a28016-6b2a-4e81-afa0-44ece5e0a6ff",
   "metadata": {},
   "outputs": [],
   "source": [
    "total=pizza+samosa+ice_cream"
   ]
  },
  {
   "cell_type": "code",
   "execution_count": 15,
   "id": "ab4cc981-bf99-4cb7-ab19-19d1e2a32674",
   "metadata": {},
   "outputs": [
    {
     "data": {
      "text/plain": [
       "160.5"
      ]
     },
     "execution_count": 15,
     "metadata": {},
     "output_type": "execute_result"
    }
   ],
   "source": [
    "total"
   ]
  },
  {
   "cell_type": "code",
   "execution_count": 16,
   "id": "08b6f5a3-5c43-446b-8c70-7e2c4a844ff3",
   "metadata": {},
   "outputs": [
    {
     "data": {
      "text/plain": [
       "float"
      ]
     },
     "execution_count": 16,
     "metadata": {},
     "output_type": "execute_result"
    }
   ],
   "source": [
    "type(total)"
   ]
  },
  {
   "cell_type": "code",
   "execution_count": 17,
   "id": "b884d8ae-879c-4ea7-b54f-45e994d36188",
   "metadata": {},
   "outputs": [
    {
     "data": {
      "text/plain": [
       "True"
      ]
     },
     "execution_count": 17,
     "metadata": {},
     "output_type": "execute_result"
    }
   ],
   "source": [
    "learn_python=True\n",
    "learn_python"
   ]
  },
  {
   "cell_type": "code",
   "execution_count": 18,
   "id": "e38cdddf-5d31-4edb-98b3-b361384bf463",
   "metadata": {},
   "outputs": [
    {
     "data": {
      "text/plain": [
       "False"
      ]
     },
     "execution_count": 18,
     "metadata": {},
     "output_type": "execute_result"
    }
   ],
   "source": [
    "learn_fortran=False\n",
    "learn_fortran"
   ]
  },
  {
   "cell_type": "code",
   "execution_count": 19,
   "id": "95461378-eeaa-462d-853d-244cf3a72784",
   "metadata": {},
   "outputs": [
    {
     "data": {
      "text/plain": [
       "bool"
      ]
     },
     "execution_count": 19,
     "metadata": {},
     "output_type": "execute_result"
    }
   ],
   "source": [
    "type(learn_python)"
   ]
  },
  {
   "cell_type": "code",
   "execution_count": 20,
   "id": "e045ed90-a4e4-49b2-9554-57b4d96524c8",
   "metadata": {},
   "outputs": [
    {
     "data": {
      "text/plain": [
       "'jalebi'"
      ]
     },
     "execution_count": 20,
     "metadata": {},
     "output_type": "execute_result"
    }
   ],
   "source": [
    "foo=\"jalebi\"\n",
    "foo"
   ]
  },
  {
   "cell_type": "code",
   "execution_count": 21,
   "id": "e15ced70-d2ff-4f33-9aca-a185384acfb7",
   "metadata": {},
   "outputs": [
    {
     "data": {
      "text/plain": [
       "'jalebi'"
      ]
     },
     "execution_count": 21,
     "metadata": {},
     "output_type": "execute_result"
    }
   ],
   "source": [
    "bar=foo\n",
    "bar"
   ]
  },
  {
   "cell_type": "code",
   "execution_count": 22,
   "id": "3d298424-1ecd-4599-9b6a-6d11602b4943",
   "metadata": {},
   "outputs": [
    {
     "data": {
      "text/plain": [
       "4390565424"
      ]
     },
     "execution_count": 22,
     "metadata": {},
     "output_type": "execute_result"
    }
   ],
   "source": [
    "id(foo)"
   ]
  },
  {
   "cell_type": "code",
   "execution_count": 23,
   "id": "410a16a3-8156-4085-9125-958bd0c52ae0",
   "metadata": {},
   "outputs": [
    {
     "data": {
      "text/plain": [
       "4390565424"
      ]
     },
     "execution_count": 23,
     "metadata": {},
     "output_type": "execute_result"
    }
   ],
   "source": [
    "id(foo)"
   ]
  },
  {
   "cell_type": "code",
   "execution_count": 24,
   "id": "02d563f1-3b76-44cd-b33e-a821f63b6c5c",
   "metadata": {},
   "outputs": [
    {
     "data": {
      "text/plain": [
       "4390565424"
      ]
     },
     "execution_count": 24,
     "metadata": {},
     "output_type": "execute_result"
    }
   ],
   "source": [
    "id(bar)"
   ]
  },
  {
   "cell_type": "code",
   "execution_count": 25,
   "id": "669ac4ee-d42c-40af-9368-9245309a08f1",
   "metadata": {},
   "outputs": [
    {
     "data": {
      "text/plain": [
       "'samosa'"
      ]
     },
     "execution_count": 25,
     "metadata": {},
     "output_type": "execute_result"
    }
   ],
   "source": [
    "bar=\"samosa\"\n",
    "bar"
   ]
  },
  {
   "cell_type": "code",
   "execution_count": 26,
   "id": "113629ae-8be3-4c0d-a512-57cabbb1decd",
   "metadata": {},
   "outputs": [
    {
     "data": {
      "text/plain": [
       "'jalebi'"
      ]
     },
     "execution_count": 26,
     "metadata": {},
     "output_type": "execute_result"
    }
   ],
   "source": [
    "foo"
   ]
  },
  {
   "cell_type": "code",
   "execution_count": 27,
   "id": "dea947cf-49a4-4b25-8ef6-84fa81cd8276",
   "metadata": {},
   "outputs": [
    {
     "data": {
      "text/plain": [
       "4390546416"
      ]
     },
     "execution_count": 27,
     "metadata": {},
     "output_type": "execute_result"
    }
   ],
   "source": [
    "id(bar)"
   ]
  },
  {
   "cell_type": "code",
   "execution_count": 28,
   "id": "57f31085-f8af-4114-8b1f-7f4b10e31f5d",
   "metadata": {},
   "outputs": [
    {
     "ename": "SyntaxError",
     "evalue": "invalid syntax (46810564.py, line 1)",
     "output_type": "error",
     "traceback": [
      "\u001b[0;36m  Cell \u001b[0;32mIn[28], line 1\u001b[0;36m\u001b[0m\n\u001b[0;31m    100inThis=100\u001b[0m\n\u001b[0m       ^\u001b[0m\n\u001b[0;31mSyntaxError\u001b[0m\u001b[0;31m:\u001b[0m invalid syntax\n"
     ]
    }
   ],
   "source": [
    "100inThis=100\n",
    "100inThis"
   ]
  },
  {
   "cell_type": "code",
   "execution_count": 29,
   "id": "2da37217-1912-4188-b7e5-c8eebd77293c",
   "metadata": {},
   "outputs": [
    {
     "data": {
      "text/plain": [
       "100"
      ]
     },
     "execution_count": 29,
     "metadata": {},
     "output_type": "execute_result"
    }
   ],
   "source": [
    "_hundred=10*10\n",
    "_hundred"
   ]
  },
  {
   "cell_type": "code",
   "execution_count": null,
   "id": "cdb52b90-7261-4caf-9e82-e45096ffe841",
   "metadata": {},
   "outputs": [],
   "source": []
  },
  {
   "cell_type": "code",
   "execution_count": null,
   "id": "a959d830-be40-4a3c-b6d1-3f2da788ed2c",
   "metadata": {},
   "outputs": [],
   "source": []
  }
 ],
 "metadata": {
  "kernelspec": {
   "display_name": "Python 3 (ipykernel)",
   "language": "python",
   "name": "python3"
  },
  "language_info": {
   "codemirror_mode": {
    "name": "ipython",
    "version": 3
   },
   "file_extension": ".py",
   "mimetype": "text/x-python",
   "name": "python",
   "nbconvert_exporter": "python",
   "pygments_lexer": "ipython3",
   "version": "3.8.10"
  }
 },
 "nbformat": 4,
 "nbformat_minor": 5
}
