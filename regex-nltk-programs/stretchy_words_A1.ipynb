{
 "cells": [
  {
   "cell_type": "code",
   "execution_count": 1,
   "id": "18085869-85c8-4452-851b-8de627683aa6",
   "metadata": {},
   "outputs": [
    {
     "name": "stdout",
     "output_type": "stream",
     "text": [
      "1\n"
     ]
    }
   ],
   "source": [
    "# Imports the RegEx library \n",
    "import re\n",
    "\n",
    "def check_stretchy(S, word): # This function checks if a group of characters in a word is stretchy \n",
    "    def group_characters(s): # This function groups adjacent and similar characters\n",
    "        groups = [(char, len(group)) for group, char in re.findall(r'((.)\\2*)', s)]\n",
    "        return groups\n",
    "\n",
    "    # Get the character groups for both S and word\n",
    "    groups_S = group_characters(S)\n",
    "    groups_word = group_characters(word)\n",
    "\n",
    "    if len(groups_S) != len(groups_word): # Checks if the number of character groups in S and word doesn’t match\n",
    "        return False\n",
    "\n",
    "    for (char_S, count_S), (char_w, count_w) in zip(groups_S, groups_word): # Checks and compares groups of characters and word counts, one by one\n",
    "\n",
    "        if char_S != char_w: # Check for matching characters\n",
    "            return False\n",
    "\n",
    "        # Check if counts satisfy the stretchy condition\n",
    "        if count_S < 3 and count_S != count_w:\n",
    "            return False\n",
    "        if count_S >= 3 and count_w > count_S:\n",
    "            return False\n",
    "\n",
    "    return True\n",
    "\n",
    "# This function counts the stretchy words in the 'word', and,\n",
    "# also validates the stretchy word length based on the defined contraints\n",
    "def stretchy_words_count(S, words): \n",
    "    \n",
    "    if not (0 <= len(S) <= 100):\n",
    "        raise ValueError(\"Length of S must be between 0 and 100.\")\n",
    "    if not (0 <= len(words) <= 100):\n",
    "        raise ValueError(\"Length of words must be between 0 and 100.\")\n",
    "    for word in words:\n",
    "        if not (0 <= len(word) <= 100):\n",
    "            raise ValueError(\"Length of each word must be between 0 and 100.\")\n",
    "        if not word.islower():\n",
    "            raise ValueError(\"All words must consist only of lowercase letters.\")\n",
    "    if not S.islower():\n",
    "        raise ValueError(\"S must consist only of lowercase letters.\")\n",
    "\n",
    "    # Calculate the stretchy word count from the example with 'c'   \n",
    "    count = 0\n",
    "    for word in words:\n",
    "        if check_stretchy(S, word):\n",
    "            count += 1\n",
    "    return count\n",
    "\n",
    "# The example which uses the letter 'c' (\"hicccuppp\") as given in assignment instructions\n",
    "S = \"hicccuppp\"\n",
    "words = [\"hiccup\", \"hiicup\", \"hicuup\", \"hic\", \"hiccough\"]\n",
    "\n",
    "# Print output of stretchy words count\n",
    "count = stretchy_words_count(S, words)\n",
    "print(count)"
   ]
  },
  {
   "cell_type": "code",
   "execution_count": null,
   "id": "5dec0019-1e13-4006-a3cc-394e7bd027f5",
   "metadata": {},
   "outputs": [],
   "source": []
  }
 ],
 "metadata": {
  "kernelspec": {
   "display_name": "Python 3 (ipykernel)",
   "language": "python",
   "name": "python3"
  },
  "language_info": {
   "codemirror_mode": {
    "name": "ipython",
    "version": 3
   },
   "file_extension": ".py",
   "mimetype": "text/x-python",
   "name": "python",
   "nbconvert_exporter": "python",
   "pygments_lexer": "ipython3",
   "version": "3.8.10"
  }
 },
 "nbformat": 4,
 "nbformat_minor": 5
}
