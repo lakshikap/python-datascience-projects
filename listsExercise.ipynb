{
 "cells": [
  {
   "cell_type": "code",
   "execution_count": 3,
   "id": "d93559ed-abc1-4141-bb3f-f0095ddfed0d",
   "metadata": {},
   "outputs": [
    {
     "ename": "SyntaxError",
     "evalue": "invalid character in identifier (1228431707.py, line 1)",
     "output_type": "error",
     "traceback": [
      "\u001b[0;36m  Cell \u001b[0;32mIn[3], line 1\u001b[0;36m\u001b[0m\n\u001b[0;31m    ​​avengers = [\"Iron Man\", \"Captain America\", \"Black Widow\", \"Hulk\", \"Thor\", \"Hawkeye\"]\u001b[0m\n\u001b[0m             ^\u001b[0m\n\u001b[0;31mSyntaxError\u001b[0m\u001b[0;31m:\u001b[0m invalid character in identifier\n"
     ]
    }
   ],
   "source": [
    "​​avengers = [\"Iron Man\", \"Captain America\", \"Black Widow\", \"Hulk\", \"Thor\", \"Hawkeye\"]\n",
    "avengers"
   ]
  },
  {
   "cell_type": "code",
   "execution_count": 4,
   "id": "8f15af36-120a-41d3-ad8a-d50700d07f3e",
   "metadata": {},
   "outputs": [
    {
     "data": {
      "text/plain": [
       "['Iron Man', 'Captain America', 'Black Widow', 'Hulk', 'Thor', 'Hawkeye']"
      ]
     },
     "execution_count": 4,
     "metadata": {},
     "output_type": "execute_result"
    }
   ],
   "source": [
    "avengers = [\"Iron Man\", \"Captain America\", \"Black Widow\", \"Hulk\", \"Thor\", \"Hawkeye\"]\n",
    "avengers\n"
   ]
  },
  {
   "cell_type": "code",
   "execution_count": 5,
   "id": "e153a86c-863f-4329-aac3-c5b6e517e6e8",
   "metadata": {},
   "outputs": [
    {
     "data": {
      "text/plain": [
       "6"
      ]
     },
     "execution_count": 5,
     "metadata": {},
     "output_type": "execute_result"
    }
   ],
   "source": [
    "len(avengers)"
   ]
  },
  {
   "cell_type": "code",
   "execution_count": 6,
   "id": "a035a16c-f982-4afa-9ee6-826c01a088d1",
   "metadata": {},
   "outputs": [],
   "source": [
    "avengers.insert(1, \"Spider Man\")"
   ]
  },
  {
   "cell_type": "code",
   "execution_count": 8,
   "id": "6fe3e13c-ecf3-4942-9218-141f9a5c0ea2",
   "metadata": {},
   "outputs": [
    {
     "data": {
      "text/plain": [
       "['Iron Man',\n",
       " 'Spider Man',\n",
       " 'Captain America',\n",
       " 'Black Widow',\n",
       " 'Hulk',\n",
       " 'Thor',\n",
       " 'Hawkeye']"
      ]
     },
     "execution_count": 8,
     "metadata": {},
     "output_type": "execute_result"
    }
   ],
   "source": [
    "avengers"
   ]
  },
  {
   "cell_type": "code",
   "execution_count": 9,
   "id": "00380499-bf7d-4dcc-b7f1-d2ea38e2202d",
   "metadata": {},
   "outputs": [],
   "source": [
    "avengers.remove(\"Captain America\")"
   ]
  },
  {
   "cell_type": "code",
   "execution_count": 10,
   "id": "038cb7de-1f03-45ea-bf66-3de11ae44263",
   "metadata": {},
   "outputs": [
    {
     "data": {
      "text/plain": [
       "['Iron Man', 'Spider Man', 'Black Widow', 'Hulk', 'Thor', 'Hawkeye']"
      ]
     },
     "execution_count": 10,
     "metadata": {},
     "output_type": "execute_result"
    }
   ],
   "source": [
    "avengers"
   ]
  },
  {
   "cell_type": "code",
   "execution_count": 11,
   "id": "79b00b19-a9af-42ac-a2fb-db05bd86b760",
   "metadata": {},
   "outputs": [
    {
     "data": {
      "text/plain": [
       "['Captain America',\n",
       " 'Iron Man',\n",
       " 'Spider Man',\n",
       " 'Black Widow',\n",
       " 'Hulk',\n",
       " 'Thor',\n",
       " 'Hawkeye']"
      ]
     },
     "execution_count": 11,
     "metadata": {},
     "output_type": "execute_result"
    }
   ],
   "source": [
    "avengers.insert(0, \"Captain America\")\n",
    "avengers"
   ]
  },
  {
   "cell_type": "code",
   "execution_count": 18,
   "id": "8714c9fb-1bbb-4d48-899e-b68bf1733d3a",
   "metadata": {},
   "outputs": [
    {
     "name": "stdout",
     "output_type": "stream",
     "text": [
      "['Captain America', 'Iron Man', 'Spider Man', 'Black Widow', 'Hulk', 'Hawkeye', 'Thor']\n"
     ]
    }
   ],
   "source": [
    "def move_items(lst, from_index, to_index):\n",
    "    item = lst.pop(from_index)\n",
    "    lst.insert(to_index, item)\n",
    "    return lst\n",
    "\n",
    "avengers = ['Captain America', 'Iron Man', 'Spider Man', 'Black Widow', 'Hulk', 'Thor', 'Hawkeye']\n",
    "new_avengers = move_items(avengers, 6, 5)\n",
    "print(new_avengers)"
   ]
  },
  {
   "cell_type": "code",
   "execution_count": 19,
   "id": "71e22d06-f6ce-4e8d-8bb1-6e80e52ea4d9",
   "metadata": {},
   "outputs": [
    {
     "ename": "TypeError",
     "evalue": "remove() takes exactly one argument (6 given)",
     "output_type": "error",
     "traceback": [
      "\u001b[0;31m---------------------------------------------------------------------------\u001b[0m",
      "\u001b[0;31mTypeError\u001b[0m                                 Traceback (most recent call last)",
      "Cell \u001b[0;32mIn[19], line 1\u001b[0m\n\u001b[0;32m----> 1\u001b[0m \u001b[43mavengers\u001b[49m\u001b[38;5;241;43m.\u001b[39;49m\u001b[43mremove\u001b[49m\u001b[43m(\u001b[49m\u001b[38;5;124;43m'\u001b[39;49m\u001b[38;5;124;43mCaptain America\u001b[39;49m\u001b[38;5;124;43m'\u001b[39;49m\u001b[43m,\u001b[49m\u001b[43m \u001b[49m\u001b[38;5;124;43m'\u001b[39;49m\u001b[38;5;124;43mIron Man\u001b[39;49m\u001b[38;5;124;43m'\u001b[39;49m\u001b[43m,\u001b[49m\u001b[43m \u001b[49m\u001b[38;5;124;43m'\u001b[39;49m\u001b[38;5;124;43mBlack Widow\u001b[39;49m\u001b[38;5;124;43m'\u001b[39;49m\u001b[43m,\u001b[49m\u001b[43m \u001b[49m\u001b[38;5;124;43m'\u001b[39;49m\u001b[38;5;124;43mHulk\u001b[39;49m\u001b[38;5;124;43m'\u001b[39;49m\u001b[43m,\u001b[49m\u001b[43m \u001b[49m\u001b[38;5;124;43m'\u001b[39;49m\u001b[38;5;124;43mHawkeye\u001b[39;49m\u001b[38;5;124;43m'\u001b[39;49m\u001b[43m,\u001b[49m\u001b[43m \u001b[49m\u001b[38;5;124;43m'\u001b[39;49m\u001b[38;5;124;43mThor\u001b[39;49m\u001b[38;5;124;43m'\u001b[39;49m\u001b[43m)\u001b[49m\n\u001b[1;32m      2\u001b[0m avengers\n",
      "\u001b[0;31mTypeError\u001b[0m: remove() takes exactly one argument (6 given)"
     ]
    }
   ],
   "source": [
    "avengers.remove('Captain America', 'Iron Man', 'Black Widow', 'Hulk', 'Hawkeye', 'Thor')\n",
    "avengers"
   ]
  },
  {
   "cell_type": "code",
   "execution_count": 20,
   "id": "ec302fa0-699d-4e6e-9741-176d381edec5",
   "metadata": {},
   "outputs": [
    {
     "name": "stdout",
     "output_type": "stream",
     "text": [
      "['Black Widow']\n"
     ]
    }
   ],
   "source": [
    "avengers = [\"Iron Man\", \"Captain America\", \"Black Widow\", \"Hulk\", \"Thor\", \"Hawkeye\"]\n",
    "\n",
    "# List of items to remove\n",
    "items_to_remove = ['Captain America', 'Iron Man', 'Hulk', 'Hawkeye', 'Thor']\n",
    "\n",
    "for item in items_to_remove:\n",
    "    if item in avengers:\n",
    "        avengers.remove(item)\n",
    "\n",
    "print(avengers)"
   ]
  },
  {
   "cell_type": "code",
   "execution_count": 26,
   "id": "c4b4063a-4946-4d96-b1ad-c1e3c1bc1881",
   "metadata": {},
   "outputs": [
    {
     "data": {
      "text/plain": [
       "['Black Widow', 'Doctor Strange', 'Doctor Strange']"
      ]
     },
     "execution_count": 26,
     "metadata": {},
     "output_type": "execute_result"
    }
   ],
   "source": [
    "avengers.insert(2, \"Doctor Strange\")\n",
    "avengers"
   ]
  },
  {
   "cell_type": "code",
   "execution_count": 27,
   "id": "00ddfc87-a74a-49aa-996b-e06e3ba0d7bb",
   "metadata": {},
   "outputs": [
    {
     "data": {
      "text/plain": [
       "['Black Widow', 'Doctor Strange', 'Doctor Strange']"
      ]
     },
     "execution_count": 27,
     "metadata": {},
     "output_type": "execute_result"
    }
   ],
   "source": [
    "avengers"
   ]
  },
  {
   "cell_type": "code",
   "execution_count": 34,
   "id": "d7c55148-353a-4277-a021-3cd2aa1610ad",
   "metadata": {},
   "outputs": [
    {
     "data": {
      "text/plain": [
       "['Black Widow', 'Doctor Strange']"
      ]
     },
     "execution_count": 34,
     "metadata": {},
     "output_type": "execute_result"
    }
   ],
   "source": [
    "avengers.remove(\"Doctor Strange\")\n",
    "avengers"
   ]
  },
  {
   "cell_type": "code",
   "execution_count": 35,
   "id": "3953e1d7-6dcd-482e-be7e-c63532648d1d",
   "metadata": {},
   "outputs": [],
   "source": [
    "avengers.insert(3, \"Vision\")"
   ]
  },
  {
   "cell_type": "code",
   "execution_count": 36,
   "id": "8db45fc5-b6bf-4546-8116-8195cd097087",
   "metadata": {},
   "outputs": [],
   "source": [
    "avengers.insert(4, \"Wanda\")"
   ]
  },
  {
   "cell_type": "code",
   "execution_count": 37,
   "id": "4d53f901-11b4-434f-96d3-fcd9b208b425",
   "metadata": {},
   "outputs": [
    {
     "data": {
      "text/plain": [
       "['Black Widow', 'Doctor Strange', 'Vision', 'Wanda']"
      ]
     },
     "execution_count": 37,
     "metadata": {},
     "output_type": "execute_result"
    }
   ],
   "source": [
    "avengers"
   ]
  },
  {
   "cell_type": "code",
   "execution_count": 38,
   "id": "bb85b122-6d22-42bf-baa3-af61f71439e2",
   "metadata": {},
   "outputs": [],
   "source": [
    "new_av = [\"Ant Man\", \"Kate Bishop\"]"
   ]
  },
  {
   "cell_type": "code",
   "execution_count": 39,
   "id": "e5283f04-36ef-42ee-8c72-7d7fab1568c7",
   "metadata": {},
   "outputs": [
    {
     "data": {
      "text/plain": [
       "['Black Widow', 'Doctor Strange', 'Vision', 'Wanda', 'Ant Man', 'Kate Bishop']"
      ]
     },
     "execution_count": 39,
     "metadata": {},
     "output_type": "execute_result"
    }
   ],
   "source": [
    "new_avengers = avengers + new_av\n",
    "new_avengers"
   ]
  },
  {
   "cell_type": "code",
   "execution_count": 40,
   "id": "721aa186-8a7e-4188-b42f-502da699c73b",
   "metadata": {},
   "outputs": [
    {
     "data": {
      "text/plain": [
       "['Black Widow', 'Doctor Strange', 'Vision', 'Wanda', 'Ant Man', 'Kate Bishop']"
      ]
     },
     "execution_count": 40,
     "metadata": {},
     "output_type": "execute_result"
    }
   ],
   "source": [
    "new_avengers.sort\n",
    "new_avengers"
   ]
  },
  {
   "cell_type": "code",
   "execution_count": 41,
   "id": "a5c93d00-9be4-4cc9-bccf-5bcf7bfc1dbc",
   "metadata": {},
   "outputs": [
    {
     "data": {
      "text/plain": [
       "'Black Widow'"
      ]
     },
     "execution_count": 41,
     "metadata": {},
     "output_type": "execute_result"
    }
   ],
   "source": [
    "leader = new_avengers[0]\n",
    "leader"
   ]
  },
  {
   "cell_type": "code",
   "execution_count": null,
   "id": "ce50b843-6ac5-440b-8859-7c4379396990",
   "metadata": {},
   "outputs": [],
   "source": []
  }
 ],
 "metadata": {
  "kernelspec": {
   "display_name": "Python 3 (ipykernel)",
   "language": "python",
   "name": "python3"
  },
  "language_info": {
   "codemirror_mode": {
    "name": "ipython",
    "version": 3
   },
   "file_extension": ".py",
   "mimetype": "text/x-python",
   "name": "python",
   "nbconvert_exporter": "python",
   "pygments_lexer": "ipython3",
   "version": "3.8.10"
  }
 },
 "nbformat": 4,
 "nbformat_minor": 5
}
