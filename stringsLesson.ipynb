{
 "cells": [
  {
   "cell_type": "code",
   "execution_count": null,
   "id": "e8638f59-9bc1-4a72-9d11-f38da19e7c90",
   "metadata": {},
   "outputs": [],
   "source": [
    "first = \"Mohan\"\n",
    "last = \" Sharma\""
   ]
  },
  {
   "cell_type": "code",
   "execution_count": 1,
   "id": "5423c698-795d-4b23-aabb-f4a1411af96f",
   "metadata": {},
   "outputs": [
    {
     "ename": "NameError",
     "evalue": "name 'first' is not defined",
     "output_type": "error",
     "traceback": [
      "\u001b[0;31m---------------------------------------------------------------------------\u001b[0m",
      "\u001b[0;31mNameError\u001b[0m                                 Traceback (most recent call last)",
      "Cell \u001b[0;32mIn[1], line 1\u001b[0m\n\u001b[0;32m----> 1\u001b[0m name\u001b[38;5;241m=\u001b[39m\u001b[43mfirst\u001b[49m\u001b[38;5;241m+\u001b[39m\u001b[38;5;124m\"\u001b[39m\u001b[38;5;124m \u001b[39m\u001b[38;5;124m\"\u001b[39m\u001b[38;5;241m+\u001b[39mlast\n\u001b[1;32m      2\u001b[0m name\n",
      "\u001b[0;31mNameError\u001b[0m: name 'first' is not defined"
     ]
    }
   ],
   "source": [
    "name = first + \" \" + last\n",
    "name"
   ]
  },
  {
   "cell_type": "code",
   "execution_count": 2,
   "id": "a096eb99-b6b5-4fc5-8f95-7a66696dfb35",
   "metadata": {},
   "outputs": [
    {
     "ename": "NameError",
     "evalue": "name 'first' is not defined",
     "output_type": "error",
     "traceback": [
      "\u001b[0;31m---------------------------------------------------------------------------\u001b[0m",
      "\u001b[0;31mNameError\u001b[0m                                 Traceback (most recent call last)",
      "Cell \u001b[0;32mIn[2], line 1\u001b[0m\n\u001b[0;32m----> 1\u001b[0m name \u001b[38;5;241m=\u001b[39m \u001b[43mfirst\u001b[49m \u001b[38;5;241m+\u001b[39m \u001b[38;5;124m\"\u001b[39m\u001b[38;5;124m \u001b[39m\u001b[38;5;124m\"\u001b[39m \u001b[38;5;241m+\u001b[39m last\n\u001b[1;32m      2\u001b[0m name\n",
      "\u001b[0;31mNameError\u001b[0m: name 'first' is not defined"
     ]
    }
   ],
   "source": [
    "name = first + \" \" + last\n",
    "name"
   ]
  },
  {
   "cell_type": "code",
   "execution_count": 3,
   "id": "b0df4624-cedd-41e7-b674-7c469e008178",
   "metadata": {},
   "outputs": [
    {
     "data": {
      "text/plain": [
       "'Mohan Sharma'"
      ]
     },
     "execution_count": 3,
     "metadata": {},
     "output_type": "execute_result"
    }
   ],
   "source": [
    "first = \"Mohan\"\n",
    "last = \"Sharma\"\n",
    "name = first + \" \" + last\n",
    "name"
   ]
  },
  {
   "cell_type": "code",
   "execution_count": 4,
   "id": "cdb54ed1-8511-46cc-a7ab-7e76c036935f",
   "metadata": {},
   "outputs": [
    {
     "ename": "SyntaxError",
     "evalue": "EOL while scanning string literal (3367929080.py, line 1)",
     "output_type": "error",
     "traceback": [
      "\u001b[0;36m  Cell \u001b[0;32mIn[4], line 1\u001b[0;36m\u001b[0m\n\u001b[0;31m    name = f'{first} {last}\u001b[0m\n\u001b[0m                           ^\u001b[0m\n\u001b[0;31mSyntaxError\u001b[0m\u001b[0;31m:\u001b[0m EOL while scanning string literal\n"
     ]
    }
   ],
   "source": [
    "name = f'{first} {last}"
   ]
  },
  {
   "cell_type": "code",
   "execution_count": 12,
   "id": "b3382388-85ee-4861-87d3-46a51c07914b",
   "metadata": {},
   "outputs": [
    {
     "data": {
      "text/plain": [
       "'Mohan Sharma is healthy'"
      ]
     },
     "execution_count": 12,
     "metadata": {},
     "output_type": "execute_result"
    }
   ],
   "source": [
    "name = f'{first} {last} is healthy'\n",
    "name"
   ]
  },
  {
   "cell_type": "code",
   "execution_count": 20,
   "id": "5902436d-aed6-4de2-928b-4708671c7292",
   "metadata": {},
   "outputs": [
    {
     "data": {
      "text/plain": [
       "' '"
      ]
     },
     "execution_count": 20,
     "metadata": {},
     "output_type": "execute_result"
    }
   ],
   "source": [
    "name[0]\n",
    "name[2]"
   ]
  },
  {
   "cell_type": "code",
   "execution_count": 21,
   "id": "9ca66603-b766-454c-9ca8-ff6e681844d9",
   "metadata": {},
   "outputs": [
    {
     "ename": "NameError",
     "evalue": "name 'start' is not defined",
     "output_type": "error",
     "traceback": [
      "\u001b[0;31m---------------------------------------------------------------------------\u001b[0m",
      "\u001b[0;31mNameError\u001b[0m                                 Traceback (most recent call last)",
      "Cell \u001b[0;32mIn[21], line 1\u001b[0m\n\u001b[0;32m----> 1\u001b[0m name[\u001b[43mstart\u001b[49m:last]\n",
      "\u001b[0;31mNameError\u001b[0m: name 'start' is not defined"
     ]
    }
   ],
   "source": [
    "name[start:last]"
   ]
  },
  {
   "cell_type": "code",
   "execution_count": 22,
   "id": "f13cd1ae-157d-4d0c-8c10-cdc969b69a25",
   "metadata": {},
   "outputs": [
    {
     "ename": "NameError",
     "evalue": "name 'o' is not defined",
     "output_type": "error",
     "traceback": [
      "\u001b[0;31m---------------------------------------------------------------------------\u001b[0m",
      "\u001b[0;31mNameError\u001b[0m                                 Traceback (most recent call last)",
      "Cell \u001b[0;32mIn[22], line 1\u001b[0m\n\u001b[0;32m----> 1\u001b[0m name[\u001b[43mo\u001b[49m:\u001b[38;5;241m5\u001b[39m]\n",
      "\u001b[0;31mNameError\u001b[0m: name 'o' is not defined"
     ]
    }
   ],
   "source": [
    "name[o:5]"
   ]
  },
  {
   "cell_type": "code",
   "execution_count": 23,
   "id": "9dcf6a04-eeeb-488e-a734-4ff6ca0b15fb",
   "metadata": {},
   "outputs": [
    {
     "data": {
      "text/plain": [
       "'Mohan'"
      ]
     },
     "execution_count": 23,
     "metadata": {},
     "output_type": "execute_result"
    }
   ],
   "source": [
    "name[0:5]"
   ]
  },
  {
   "cell_type": "code",
   "execution_count": 25,
   "id": "2c11d57b-1fbb-4e32-9d37-178aac0455d6",
   "metadata": {},
   "outputs": [
    {
     "data": {
      "text/plain": [
       "' Sharma'"
      ]
     },
     "execution_count": 25,
     "metadata": {},
     "output_type": "execute_result"
    }
   ],
   "source": [
    "name[5:12]"
   ]
  },
  {
   "cell_type": "code",
   "execution_count": 26,
   "id": "dd4ac589-459c-4ba1-b0b9-c1b50bee6877",
   "metadata": {},
   "outputs": [
    {
     "data": {
      "text/plain": [
       "'Mohan'"
      ]
     },
     "execution_count": 26,
     "metadata": {},
     "output_type": "execute_result"
    }
   ],
   "source": [
    "name[:5]"
   ]
  },
  {
   "cell_type": "code",
   "execution_count": 27,
   "id": "bf94f174-f06a-40ab-a7d9-edb27cffb6ad",
   "metadata": {},
   "outputs": [
    {
     "data": {
      "text/plain": [
       "'Sharma is healthy'"
      ]
     },
     "execution_count": 27,
     "metadata": {},
     "output_type": "execute_result"
    }
   ],
   "source": [
    "name[6:]"
   ]
  },
  {
   "cell_type": "code",
   "execution_count": 29,
   "id": "f5a00dce-7d0b-416f-a628-6b20c5653874",
   "metadata": {},
   "outputs": [
    {
     "data": {
      "text/plain": [
       "'y'"
      ]
     },
     "execution_count": 29,
     "metadata": {},
     "output_type": "execute_result"
    }
   ],
   "source": [
    "name[-1:]"
   ]
  },
  {
   "cell_type": "code",
   "execution_count": 30,
   "id": "f19767ca-d2dd-4400-971b-a45abebfe10b",
   "metadata": {},
   "outputs": [
    {
     "data": {
      "text/plain": [
       "'ealthy'"
      ]
     },
     "execution_count": 30,
     "metadata": {},
     "output_type": "execute_result"
    }
   ],
   "source": [
    "name[-6:]"
   ]
  },
  {
   "cell_type": "code",
   "execution_count": 31,
   "id": "5217fb94-768d-4d57-bca4-fbee9043fb2e",
   "metadata": {},
   "outputs": [
    {
     "data": {
      "text/plain": [
       "23"
      ]
     },
     "execution_count": 31,
     "metadata": {},
     "output_type": "execute_result"
    }
   ],
   "source": [
    "len(name)"
   ]
  },
  {
   "cell_type": "code",
   "execution_count": 32,
   "id": "9f0ac4a1-5db6-4835-8335-639e27c98102",
   "metadata": {},
   "outputs": [
    {
     "data": {
      "text/plain": [
       "'samosa,jalebi'"
      ]
     },
     "execution_count": 32,
     "metadata": {},
     "output_type": "execute_result"
    }
   ],
   "source": [
    "my_food = \"samosa,jalebi\"\n",
    "my_food"
   ]
  },
  {
   "cell_type": "code",
   "execution_count": 33,
   "id": "9ebb74fd-18d1-4c71-8769-54ebecc56571",
   "metadata": {},
   "outputs": [
    {
     "data": {
      "text/plain": [
       "False"
      ]
     },
     "execution_count": 33,
     "metadata": {},
     "output_type": "execute_result"
    }
   ],
   "source": [
    "'salad' in my_food"
   ]
  },
  {
   "cell_type": "code",
   "execution_count": 34,
   "id": "68e0ff22-7fbe-41f3-a60f-c512ef130eb5",
   "metadata": {},
   "outputs": [
    {
     "data": {
      "text/plain": [
       "True"
      ]
     },
     "execution_count": 34,
     "metadata": {},
     "output_type": "execute_result"
    }
   ],
   "source": [
    "'jalebi' in my_food"
   ]
  },
  {
   "cell_type": "code",
   "execution_count": 36,
   "id": "cf4ab4df-29e2-4a1e-b527-236c18b7bb7d",
   "metadata": {},
   "outputs": [
    {
     "data": {
      "text/plain": [
       "False"
      ]
     },
     "execution_count": 36,
     "metadata": {},
     "output_type": "execute_result"
    }
   ],
   "source": [
    "'samosa' not in my_food"
   ]
  },
  {
   "cell_type": "code",
   "execution_count": 37,
   "id": "89f91825-3d5f-4bce-b85e-48f06a1db112",
   "metadata": {},
   "outputs": [
    {
     "ename": "SyntaxError",
     "evalue": "invalid syntax (1050268638.py, line 1)",
     "output_type": "error",
     "traceback": [
      "\u001b[0;36m  Cell \u001b[0;32mIn[37], line 1\u001b[0;36m\u001b[0m\n\u001b[0;31m    food_story = 'lakshika's favourite food is banana'.\u001b[0m\n\u001b[0m                           ^\u001b[0m\n\u001b[0;31mSyntaxError\u001b[0m\u001b[0;31m:\u001b[0m invalid syntax\n"
     ]
    }
   ],
   "source": [
    "food_story = 'lakshika's favourite food is banana'."
   ]
  },
  {
   "cell_type": "code",
   "execution_count": 39,
   "id": "e6e086c4-1a46-43bf-85e2-b589fa517e69",
   "metadata": {},
   "outputs": [
    {
     "data": {
      "text/plain": [
       "\"lakshika's favourite food is banana\""
      ]
     },
     "execution_count": 39,
     "metadata": {},
     "output_type": "execute_result"
    }
   ],
   "source": [
    "food_story = \"lakshika's favourite food is banana\"\n",
    "food_story"
   ]
  },
  {
   "cell_type": "code",
   "execution_count": 40,
   "id": "dbc19f9c-2a04-4526-b80f-e1f2b9be4165",
   "metadata": {},
   "outputs": [
    {
     "data": {
      "text/plain": [
       "'lakshika\"s favourite food is banana'"
      ]
     },
     "execution_count": 40,
     "metadata": {},
     "output_type": "execute_result"
    }
   ],
   "source": [
    "food_story = 'lakshika\"s favourite food is banana'\n",
    "food_story"
   ]
  },
  {
   "cell_type": "code",
   "execution_count": 42,
   "id": "03f7f052-5da1-41b8-a77b-f6de7c06137b",
   "metadata": {},
   "outputs": [
    {
     "data": {
      "text/plain": [
       "'I was forced to do fast after seeing food. \\nI will try again.'"
      ]
     },
     "execution_count": 42,
     "metadata": {},
     "output_type": "execute_result"
    }
   ],
   "source": [
    "food_review = '''I was forced to do fast after seeing food. \n",
    "I will try again.'''\n",
    "food_review"
   ]
  },
  {
   "cell_type": "code",
   "execution_count": 43,
   "id": "7fefc372-d719-49f7-9aaf-483580c693c2",
   "metadata": {},
   "outputs": [
    {
     "name": "stdout",
     "output_type": "stream",
     "text": [
      "I was forced to do fast after seeing food. \n",
      "I will try again.\n"
     ]
    }
   ],
   "source": [
    "food_review = '''I was forced to do fast after seeing food. \n",
    "I will try again.'''\n",
    "print(food_review)"
   ]
  },
  {
   "cell_type": "code",
   "execution_count": 44,
   "id": "bd04f447-a62c-450b-83e7-1bbb456d3eca",
   "metadata": {},
   "outputs": [
    {
     "data": {
      "text/plain": [
       "'patient was charged $100 for a lab test.'"
      ]
     },
     "execution_count": 44,
     "metadata": {},
     "output_type": "execute_result"
    }
   ],
   "source": [
    "s = \"patient was charged $100 for a lab test.\"\n",
    "s"
   ]
  },
  {
   "cell_type": "code",
   "execution_count": 45,
   "id": "f6d4d6b5-1dbf-4f0c-80d3-ddf884a4831c",
   "metadata": {},
   "outputs": [
    {
     "data": {
      "text/plain": [
       "'patient was charged $100 for a lab test.'"
      ]
     },
     "execution_count": 45,
     "metadata": {},
     "output_type": "execute_result"
    }
   ],
   "source": [
    "s.replace(\"$100\",\"$50\")\n",
    "s"
   ]
  },
  {
   "cell_type": "code",
   "execution_count": 47,
   "id": "eccc2218-b0e1-452b-ad85-57f7b2f389f3",
   "metadata": {},
   "outputs": [
    {
     "data": {
      "text/plain": [
       "'patient was charged $50 for a lab test.'"
      ]
     },
     "execution_count": 47,
     "metadata": {},
     "output_type": "execute_result"
    }
   ],
   "source": [
    "s = s.replace(\"$100\",\"$50\")\n",
    "s"
   ]
  },
  {
   "cell_type": "code",
   "execution_count": 48,
   "id": "25ee0296-d975-415a-b8d4-447f52afd0ec",
   "metadata": {},
   "outputs": [
    {
     "data": {
      "text/plain": [
       "'patient was charged $50 for a lab test.'"
      ]
     },
     "execution_count": 48,
     "metadata": {},
     "output_type": "execute_result"
    }
   ],
   "source": [
    "s"
   ]
  },
  {
   "cell_type": "code",
   "execution_count": 1,
   "id": "055c8ea8-8c93-4b9c-979e-486ba33dee21",
   "metadata": {},
   "outputs": [
    {
     "ename": "NameError",
     "evalue": "name 's' is not defined",
     "output_type": "error",
     "traceback": [
      "\u001b[0;31m---------------------------------------------------------------------------\u001b[0m",
      "\u001b[0;31mNameError\u001b[0m                                 Traceback (most recent call last)",
      "Cell \u001b[0;32mIn[1], line 1\u001b[0m\n\u001b[0;32m----> 1\u001b[0m \u001b[43ms\u001b[49m\n",
      "\u001b[0;31mNameError\u001b[0m: name 's' is not defined"
     ]
    }
   ],
   "source": [
    "s"
   ]
  },
  {
   "cell_type": "code",
   "execution_count": 2,
   "id": "6bd22462-cc31-4c5f-aa06-10860322492e",
   "metadata": {},
   "outputs": [
    {
     "data": {
      "text/plain": [
       "'patient was charged $100 for a lab test.'"
      ]
     },
     "execution_count": 2,
     "metadata": {},
     "output_type": "execute_result"
    }
   ],
   "source": [
    "s = \"patient was charged $100 for a lab test.\"\n",
    "s"
   ]
  },
  {
   "cell_type": "code",
   "execution_count": 3,
   "id": "0787fba2-db92-4a60-ba23-3e5bf2532d69",
   "metadata": {},
   "outputs": [
    {
     "data": {
      "text/plain": [
       "'PATIENT WAS CHARGED $100 FOR A LAB TEST.'"
      ]
     },
     "execution_count": 3,
     "metadata": {},
     "output_type": "execute_result"
    }
   ],
   "source": [
    "s.upper()"
   ]
  },
  {
   "cell_type": "code",
   "execution_count": 4,
   "id": "b9e6ace6-73ad-4bb6-85ee-7b2c447942b8",
   "metadata": {},
   "outputs": [
    {
     "data": {
      "text/plain": [
       "'patient was charged $100 for a lab test.'"
      ]
     },
     "execution_count": 4,
     "metadata": {},
     "output_type": "execute_result"
    }
   ],
   "source": [
    "s.lower()"
   ]
  },
  {
   "cell_type": "code",
   "execution_count": 5,
   "id": "99cef86f-b134-4597-8cef-259808a7b24f",
   "metadata": {},
   "outputs": [
    {
     "data": {
      "text/plain": [
       "['__add__',\n",
       " '__class__',\n",
       " '__contains__',\n",
       " '__delattr__',\n",
       " '__dir__',\n",
       " '__doc__',\n",
       " '__eq__',\n",
       " '__format__',\n",
       " '__ge__',\n",
       " '__getattribute__',\n",
       " '__getitem__',\n",
       " '__getnewargs__',\n",
       " '__gt__',\n",
       " '__hash__',\n",
       " '__init__',\n",
       " '__init_subclass__',\n",
       " '__iter__',\n",
       " '__le__',\n",
       " '__len__',\n",
       " '__lt__',\n",
       " '__mod__',\n",
       " '__mul__',\n",
       " '__ne__',\n",
       " '__new__',\n",
       " '__reduce__',\n",
       " '__reduce_ex__',\n",
       " '__repr__',\n",
       " '__rmod__',\n",
       " '__rmul__',\n",
       " '__setattr__',\n",
       " '__sizeof__',\n",
       " '__str__',\n",
       " '__subclasshook__',\n",
       " 'capitalize',\n",
       " 'casefold',\n",
       " 'center',\n",
       " 'count',\n",
       " 'encode',\n",
       " 'endswith',\n",
       " 'expandtabs',\n",
       " 'find',\n",
       " 'format',\n",
       " 'format_map',\n",
       " 'index',\n",
       " 'isalnum',\n",
       " 'isalpha',\n",
       " 'isascii',\n",
       " 'isdecimal',\n",
       " 'isdigit',\n",
       " 'isidentifier',\n",
       " 'islower',\n",
       " 'isnumeric',\n",
       " 'isprintable',\n",
       " 'isspace',\n",
       " 'istitle',\n",
       " 'isupper',\n",
       " 'join',\n",
       " 'ljust',\n",
       " 'lower',\n",
       " 'lstrip',\n",
       " 'maketrans',\n",
       " 'partition',\n",
       " 'replace',\n",
       " 'rfind',\n",
       " 'rindex',\n",
       " 'rjust',\n",
       " 'rpartition',\n",
       " 'rsplit',\n",
       " 'rstrip',\n",
       " 'split',\n",
       " 'splitlines',\n",
       " 'startswith',\n",
       " 'strip',\n",
       " 'swapcase',\n",
       " 'title',\n",
       " 'translate',\n",
       " 'upper',\n",
       " 'zfill']"
      ]
     },
     "execution_count": 5,
     "metadata": {},
     "output_type": "execute_result"
    }
   ],
   "source": [
    "dir(s)"
   ]
  },
  {
   "cell_type": "code",
   "execution_count": 14,
   "id": "69c875b5-6344-4852-9c74-f110828f1840",
   "metadata": {},
   "outputs": [
    {
     "data": {
      "text/plain": [
       "<function str.translate(table, /)>"
      ]
     },
     "execution_count": 14,
     "metadata": {},
     "output_type": "execute_result"
    }
   ],
   "source": [
    "'Elephant'.translate"
   ]
  },
  {
   "cell_type": "code",
   "execution_count": 15,
   "id": "ca18c5f8-110f-48b7-a154-a80272c29cef",
   "metadata": {},
   "outputs": [
    {
     "data": {
      "text/plain": [
       "'patient was charged $100 for a lab test.'"
      ]
     },
     "execution_count": 15,
     "metadata": {},
     "output_type": "execute_result"
    }
   ],
   "source": [
    "s"
   ]
  },
  {
   "cell_type": "code",
   "execution_count": 17,
   "id": "e3825a32-6b3b-4ffc-bbf0-2aee64d580e3",
   "metadata": {},
   "outputs": [
    {
     "data": {
      "text/plain": [
       "True"
      ]
     },
     "execution_count": 17,
     "metadata": {},
     "output_type": "execute_result"
    }
   ],
   "source": [
    "'410'.isdigit()"
   ]
  },
  {
   "cell_type": "code",
   "execution_count": 18,
   "id": "0fb0175e-4da7-45f0-93d3-8374a44f8cae",
   "metadata": {},
   "outputs": [
    {
     "data": {
      "text/plain": [
       "False"
      ]
     },
     "execution_count": 18,
     "metadata": {},
     "output_type": "execute_result"
    }
   ],
   "source": [
    "'41etwgd0'.isdigit()"
   ]
  },
  {
   "cell_type": "code",
   "execution_count": 19,
   "id": "f96bbf91-cf91-4aca-95b8-755305d79e8f",
   "metadata": {},
   "outputs": [
    {
     "data": {
      "text/plain": [
       "'patient was charged $100 for a lab test.'"
      ]
     },
     "execution_count": 19,
     "metadata": {},
     "output_type": "execute_result"
    }
   ],
   "source": [
    "s"
   ]
  },
  {
   "cell_type": "code",
   "execution_count": 20,
   "id": "266acd22-fbe7-44bb-903b-050b491d24b7",
   "metadata": {},
   "outputs": [
    {
     "data": {
      "text/plain": [
       "8"
      ]
     },
     "execution_count": 20,
     "metadata": {},
     "output_type": "execute_result"
    }
   ],
   "source": [
    "s.index('was')"
   ]
  },
  {
   "cell_type": "code",
   "execution_count": 16,
   "id": "f248eef8-56ba-4ea1-8d1f-94b7d0ade509",
   "metadata": {},
   "outputs": [
    {
     "ename": "ValueError",
     "evalue": "substring not found",
     "output_type": "error",
     "traceback": [
      "\u001b[0;31m---------------------------------------------------------------------------\u001b[0m",
      "\u001b[0;31mValueError\u001b[0m                                Traceback (most recent call last)",
      "Cell \u001b[0;32mIn[16], line 1\u001b[0m\n\u001b[0;32m----> 1\u001b[0m \u001b[43ms\u001b[49m\u001b[38;5;241;43m.\u001b[39;49m\u001b[43mindex\u001b[49m\u001b[43m(\u001b[49m\u001b[38;5;124;43m'\u001b[39;49m\u001b[38;5;124;43mdhaval\u001b[39;49m\u001b[38;5;124;43m'\u001b[39;49m\u001b[43m)\u001b[49m\n",
      "\u001b[0;31mValueError\u001b[0m: substring not found"
     ]
    }
   ],
   "source": [
    "s.index('dhaval')"
   ]
  },
  {
   "cell_type": "code",
   "execution_count": 21,
   "id": "d58c4bc8-8db0-46d4-be83-0a52a50ca407",
   "metadata": {},
   "outputs": [],
   "source": [
    "text=\"my age is:\"\n",
    "age=38"
   ]
  },
  {
   "cell_type": "code",
   "execution_count": 22,
   "id": "7115a8aa-89be-4477-b099-c84fe20f7599",
   "metadata": {},
   "outputs": [
    {
     "data": {
      "text/plain": [
       "38"
      ]
     },
     "execution_count": 22,
     "metadata": {},
     "output_type": "execute_result"
    }
   ],
   "source": [
    "age"
   ]
  },
  {
   "cell_type": "code",
   "execution_count": 23,
   "id": "20976fc6-f338-48c0-900f-f345ef12d881",
   "metadata": {},
   "outputs": [
    {
     "data": {
      "text/plain": [
       "'38'"
      ]
     },
     "execution_count": 23,
     "metadata": {},
     "output_type": "execute_result"
    }
   ],
   "source": [
    "str(age)"
   ]
  },
  {
   "cell_type": "code",
   "execution_count": 24,
   "id": "d060db67-4723-4b6c-ac0b-d65466f632bd",
   "metadata": {},
   "outputs": [
    {
     "data": {
      "text/plain": [
       "'my age is:38 years'"
      ]
     },
     "execution_count": 24,
     "metadata": {},
     "output_type": "execute_result"
    }
   ],
   "source": [
    "text+str(age)+ ' years'"
   ]
  },
  {
   "cell_type": "code",
   "execution_count": 25,
   "id": "8932ef92-8285-45ae-b8b2-552263d605ed",
   "metadata": {},
   "outputs": [
    {
     "data": {
      "text/plain": [
       "'my age is: 38 years'"
      ]
     },
     "execution_count": 25,
     "metadata": {},
     "output_type": "execute_result"
    }
   ],
   "source": [
    "f'my age is: {age} years'"
   ]
  },
  {
   "cell_type": "code",
   "execution_count": 26,
   "id": "eee2d141-0363-4909-bc45-46260fd83d31",
   "metadata": {},
   "outputs": [],
   "source": [
    "height = 65\n",
    "weight = 50 "
   ]
  },
  {
   "cell_type": "code",
   "execution_count": 27,
   "id": "b14734cf-ba2a-4ef0-a7e5-525bf4382999",
   "metadata": {},
   "outputs": [
    {
     "ename": "SyntaxError",
     "evalue": "f-string: single '}' is not allowed (157505753.py, line 1)",
     "output_type": "error",
     "traceback": [
      "\u001b[0;36m  Cell \u001b[0;32mIn[27], line 1\u001b[0;36m\u001b[0m\n\u001b[0;31m    patient_info= f'Height: [height} cm Weight: {weight} kg'\u001b[0m\n\u001b[0m                  ^\u001b[0m\n\u001b[0;31mSyntaxError\u001b[0m\u001b[0;31m:\u001b[0m f-string: single '}' is not allowed\n"
     ]
    }
   ],
   "source": [
    "patient_info= f'Height: [height} cm Weight: {weight} kg'\n",
    "patient_info"
   ]
  },
  {
   "cell_type": "code",
   "execution_count": 28,
   "id": "2dbbbbc6-80db-4619-931b-43e7c64e9dea",
   "metadata": {},
   "outputs": [
    {
     "data": {
      "text/plain": [
       "'Height: 65 cm Weight: 50 kg'"
      ]
     },
     "execution_count": 28,
     "metadata": {},
     "output_type": "execute_result"
    }
   ],
   "source": [
    "patient_info = f'Height: {height} cm Weight: {weight} kg'\n",
    "patient_info"
   ]
  },
  {
   "cell_type": "code",
   "execution_count": 32,
   "id": "ddd75935-88cd-4d60-9572-b985e9018427",
   "metadata": {},
   "outputs": [
    {
     "name": "stdout",
     "output_type": "stream",
     "text": [
      "Height: 65 cm\n",
      "Weight: 50 kg\n"
     ]
    }
   ],
   "source": [
    "patient_info = f'Height: {height} cm\\nWeight: {weight} kg'\n",
    "print(patient_info)"
   ]
  },
  {
   "cell_type": "code",
   "execution_count": 33,
   "id": "b07b31d9-daf7-4fa2-a2f9-6bbd9cb25cdd",
   "metadata": {},
   "outputs": [
    {
     "name": "stdout",
     "output_type": "stream",
     "text": [
      "hey\tbro\n"
     ]
    }
   ],
   "source": [
    "s= \"hey\\tbro\"\n",
    "print(s)"
   ]
  },
  {
   "cell_type": "code",
   "execution_count": 34,
   "id": "25be28f5-c487-45ca-a76e-5140d5460add",
   "metadata": {},
   "outputs": [],
   "source": [
    "a = \"hello python\""
   ]
  },
  {
   "cell_type": "code",
   "execution_count": 35,
   "id": "e126f652-8679-4190-a22f-a263c9d357cd",
   "metadata": {},
   "outputs": [
    {
     "data": {
      "text/plain": [
       "'Hello python'"
      ]
     },
     "execution_count": 35,
     "metadata": {},
     "output_type": "execute_result"
    }
   ],
   "source": [
    "a.capitalize()"
   ]
  },
  {
   "cell_type": "code",
   "execution_count": 36,
   "id": "48346444-043e-41f7-ab40-06f95279c87d",
   "metadata": {},
   "outputs": [
    {
     "data": {
      "text/plain": [
       "'Hello Python'"
      ]
     },
     "execution_count": 36,
     "metadata": {},
     "output_type": "execute_result"
    }
   ],
   "source": [
    "a.title()"
   ]
  },
  {
   "cell_type": "code",
   "execution_count": null,
   "id": "4c8bb836-9cff-4f49-a677-f42de631cbac",
   "metadata": {},
   "outputs": [],
   "source": []
  }
 ],
 "metadata": {
  "kernelspec": {
   "display_name": "Python 3 (ipykernel)",
   "language": "python",
   "name": "python3"
  },
  "language_info": {
   "codemirror_mode": {
    "name": "ipython",
    "version": 3
   },
   "file_extension": ".py",
   "mimetype": "text/x-python",
   "name": "python",
   "nbconvert_exporter": "python",
   "pygments_lexer": "ipython3",
   "version": "3.8.10"
  }
 },
 "nbformat": 4,
 "nbformat_minor": 5
}
